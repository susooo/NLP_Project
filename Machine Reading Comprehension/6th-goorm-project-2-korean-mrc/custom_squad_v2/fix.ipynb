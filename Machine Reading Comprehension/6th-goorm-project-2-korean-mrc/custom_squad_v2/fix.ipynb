{
 "cells": [
  {
   "cell_type": "code",
   "execution_count": 10,
   "metadata": {
    "collapsed": true
   },
   "outputs": [
    {
     "name": "stdout",
     "output_type": "stream",
     "text": [
      "dict_keys(['version', 'data'])\n",
      "{'title': '제주도 장마 시작 … 중부는 이달 말부터', 'paragraphs': [{'context': '올여름 장마가 17일 제주도에서 시작됐다. 서울 등 중부지방은 예년보다 사나흘 정도 늦은 이달 말께 장마가 시작될 전망이다.17일 기상청에 따르면 제주도 남쪽 먼바다에 있는 장마전선의 영향으로 이날 제주도 산간 및 내륙지역에 호우주의보가 내려지면서 곳곳에 100㎜에 육박하는 많은 비가 내렸다. 제주의 장마는 평년보다 2~3일, 지난해보다는 하루 일찍 시작됐다. 장마는 고온다습한 북태평양 기단과 한랭 습윤한 오호츠크해 기단이 만나 형성되는 장마전선에서 내리는 비를 뜻한다.장마전선은 18일 제주도 먼 남쪽 해상으로 내려갔다가 20일께 다시 북상해 전남 남해안까지 영향을 줄 것으로 보인다. 이에 따라 20~21일 남부지방에도 예년보다 사흘 정도 장마가 일찍 찾아올 전망이다. 그러나 장마전선을 밀어올리는 북태평양 고기압 세력이 약해 서울 등 중부지방은 평년보다 사나흘가량 늦은 이달 말부터 장마가 시작될 것이라는 게 기상청의 설명이다. 장마전선은 이후 한 달가량 한반도 중남부를 오르내리며 곳곳에 비를 뿌릴 전망이다. 최근 30년간 평균치에 따르면 중부지방의 장마 시작일은 6월24~25일이었으며 장마기간은 32일, 강수일수는 17.2일이었다.기상청은 올해 장마기간의 평균 강수량이 350~400㎜로 평년과 비슷하거나 적을 것으로 내다봤다. 브라질 월드컵 한국과 러시아의 경기가 열리는 18일 오전 서울은 대체로 구름이 많이 끼지만 비는 오지 않을 것으로 예상돼 거리 응원에는 지장이 없을 전망이다.', 'qas': [{'question': '북태평양 기단과 오호츠크해 기단이 만나 국내에 머무르는 기간은?', 'answers': [{'text': '한 달가량', 'answer_start': 478}, {'text': '한 달', 'answer_start': 478}], 'guid': '798db07f0b9046759deed9d4a35ce31e'}]}], 'news_category': '종합', 'source': 'hankyung'}\n",
      "{'title': '유통업계도 ‘21세 쇼팽’ 조성진에 빠졌네', 'context': '한국인 최초로 쇼팽국제피아노콩쿠르에서 우승을 차지한 ‘21세 쇼팽’ 조성진 마케팅이 유통업계에까지 번졌다. 기능성 음료 브랜드 스무디킹은 9일 ‘조성진 2015 쇼팽 콩쿠르 실황앨범’(사진)과 스무디킹 쿠폰으로 구성된 ‘메가기프트’를 출시했다.스무디킹이 음반 유통사 유니버설뮤직과 제휴해 제작한 이번 기획상품은 조성진 씨가 콩쿠르에서 연주한 ‘야상곡 op.48-1’, ‘피아노 소나타 2번 op.35’ 등이 수록된 앨범과 엽서 5장, 스무디킹 음료쿠폰 2장으로 구성돼 있다.전국 스무디킹 직영 28개 매장에서 선착순 판매한다. 가격은 1만4700원으로, 전체 구성품의 총가격(2만9800원)에 비해 약 50% 저렴하다고 스무디킹 측은 설명했다.유통업계가 ‘조성진 마케팅’에 시동을 건 것은 조씨의 음반과 공연 등이 폭발적인 인기를 얻고 있어서다. 음반 유통사인 유니버설뮤직 측은 일반 클래식 음반보다 다섯 배 많은 5만장을 준비했다고 설명했다. 내년 2월 열리는 쇼팽콩쿠르 한국 공연 티켓은 예매 시작 50분 만에 2500석 전 석이 매진됐다.', 'question': '유니버셜뮤직과 협력하여 만든 메가기프트를 살 수 있는 업체의 매장 수는?', 'answers': {'answer_start': [276, 276], 'text': ['28개', '28']}}\n"
     ]
    }
   ],
   "source": [
    "import json\n",
    "from copy import copy\n",
    "\n",
    "with open('train.json', encoding=\"utf-8\") as f:\n",
    "    squad = json.load(f)\n",
    "\n",
    "    print(squad.keys())\n",
    "    print(squad['data'][0])\n",
    "    for example in squad[\"data\"]:\n",
    "        title = example.get(\"title\", \"\")\n",
    "        for paragraph in example[\"paragraphs\"]:\n",
    "            context = paragraph[\"context\"]  # do not strip leading blank spaces GH-2585\n",
    "            for qa in paragraph[\"qas\"]:\n",
    "                question = qa[\"question\"]\n",
    "\n",
    "                answer_starts = [answer[\"answer_start\"] for answer in qa[\"answers\"]]\n",
    "                answers = [answer[\"text\"] for answer in qa[\"answers\"]]\n",
    "\n",
    "                # Features currently used are \"context\", \"question\", and \"answers\".\n",
    "                # Others are extracted here for the ease of future expansions.\n",
    "                formatted =  {\n",
    "                    \"title\": title,\n",
    "                    \"context\": context,\n",
    "                    \"question\": question,\n",
    "                    \"answers\": {\n",
    "                        \"answer_start\": answer_starts,\n",
    "                        \"text\": answers,\n",
    "                    },\n",
    "                }\n",
    "    print(formatted)\n",
    "\n",
    "with open(filepath, encoding=\"utf-8\") as f:\n",
    "    squad = json.load(f)\n",
    "    squad_2 = copy(squad)\n",
    "    for example in squad[\"data\"]:\n",
    "        title = example.get(\"title\", \"\")\n",
    "        for paragraph in example[\"paragraphs\"]:\n",
    "            context = paragraph[\"context\"]  # do not strip leading blank spaces GH-2585\n",
    "            for qa in paragraph[\"qas\"]:\n",
    "                question = qa[\"question\"]\n",
    "                id_ = qa[\"id\"]\n",
    "\n",
    "                answer_starts = [answer[\"answer_start\"] for answer in qa[\"answers\"]]\n",
    "                answers = [answer[\"text\"] for answer in qa[\"answers\"]]\n",
    "\n",
    "                # Features currently used are \"context\", \"question\", and \"answers\".\n",
    "                # Others are extracted here for the ease of future expansions.\n",
    "                yield id_, {\n",
    "                    \"title\": title,\n",
    "                    \"context\": context,\n",
    "                    \"question\": question,\n",
    "                    \"id\": id_,\n",
    "                    \"answers\": {\n",
    "                        \"answer_start\": answer_starts,\n",
    "                        \"text\": answers,\n",
    "                    },\n",
    "                }"
   ]
  },
  {
   "cell_type": "code",
   "execution_count": null,
   "outputs": [],
   "source": [],
   "metadata": {
    "collapsed": false
   }
  }
 ],
 "metadata": {
  "kernelspec": {
   "display_name": "Python 3",
   "language": "python",
   "name": "python3"
  },
  "language_info": {
   "codemirror_mode": {
    "name": "ipython",
    "version": 2
   },
   "file_extension": ".py",
   "mimetype": "text/x-python",
   "name": "python",
   "nbconvert_exporter": "python",
   "pygments_lexer": "ipython2",
   "version": "2.7.6"
  }
 },
 "nbformat": 4,
 "nbformat_minor": 0
}
