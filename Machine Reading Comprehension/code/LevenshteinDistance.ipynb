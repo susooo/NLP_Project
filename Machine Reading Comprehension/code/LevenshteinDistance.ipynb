{
  "nbformat": 4,
  "nbformat_minor": 0,
  "metadata": {
    "colab": {
      "provenance": []
    },
    "kernelspec": {
      "name": "python3",
      "display_name": "Python 3"
    },
    "language_info": {
      "name": "python"
    }
  },
  "cells": [
    {
      "cell_type": "code",
      "execution_count": null,
      "metadata": {
        "id": "WEQ4DuY0bSlU"
      },
      "outputs": [],
      "source": [
        "def calc_distance(a, b):\n",
        "    ''' 레벤슈타인 거리 계산하기 '''\n",
        "    if a == b:\n",
        "        return 0 # 같으면 0을 반환\n",
        "    \n",
        "    a_len = len(a) # a 길이\n",
        "    b_len = len(b) # b 길이\n",
        "    if a == \"\":\n",
        "        return b_len\n",
        "    if b == \"\":\n",
        "        return a_len\n",
        "    \n",
        "    matrix = [[] for i in range(a_len+1)]\n",
        "    \n",
        "    for i in range(a_len+1): # 0으로 초기화\n",
        "        matrix[i] = [0 for j in range(b_len+1)]\n",
        "        \n",
        "    # 0일 때 초깃값을 설정\n",
        "    for i in range(a_len+1):\n",
        "        matrix[i][0] = i\n",
        "        \n",
        "    for j in range(b_len+1):\n",
        "        matrix[0][j] = j\n",
        "        \n",
        "    # 표 채우기 --- (※2)\n",
        "    for i in range(1, a_len+1):\n",
        "        ac = a[i-1]\n",
        "        for j in range(1, b_len+1):\n",
        "            bc = b[j-1]\n",
        "            cost = 0 if (ac == bc) else 1\n",
        "            matrix[i][j] = min([\n",
        "                matrix[i-1][j] + 1,     # 문자 삽입\n",
        "                matrix[i][j-1] + 1,     # 문자 제거\n",
        "                matrix[i-1][j-1] + cost # 문자 변경\n",
        "            ])\n",
        "            \n",
        "    return matrix[a_len][b_len]"
      ]
    }
  ]
}